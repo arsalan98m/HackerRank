{
 "cells": [
  {
   "cell_type": "markdown",
   "metadata": {},
   "source": [
    "##### Task\n",
    "complete the code the editor below.The variables i, d and s are already \n",
    "declared and initialized for you.you must:\n",
    "-  Declare 3 variables: one of type int , one of type double ,\n",
    "  one of type string.\n",
    "-  Read 3 lines of input "
   ]
  },
  {
   "cell_type": "markdown",
   "metadata": {},
   "source": [
    "- Simple input:\n",
    "\n",
    "    ` 12 `\n",
    "    \n",
    "    ` 4.0 `\n",
    "    \n",
    "    `is the best place to learn and practice coding`\n",
    "\n",
    "\n",
    "- Simple output:\n",
    " \n",
    "     `16`\n",
    "    \n",
    "    `8.0 `\n",
    "    \n",
    "    `HackerRank is the best place to learn and practice coding`\n"
   ]
  },
  {
   "cell_type": "code",
   "execution_count": 6,
   "metadata": {},
   "outputs": [
    {
     "name": "stdout",
     "output_type": "stream",
     "text": [
      "12\n",
      "4.0\n",
      "is the best place to learn and practice coding\n",
      "16\n",
      "8.0\n",
      "HackerRank is the best place to learn and practice coding\n"
     ]
    }
   ],
   "source": [
    "i = 4\n",
    "d = 4.0\n",
    "s = 'HackerRank '\n",
    "# Declare second integer, double, and String variables.\n",
    "\n",
    "second_integer = None\n",
    "second_float = None\n",
    "second_string  = None\n",
    "# Read and save an integer, double, and String to your variables.\n",
    "second_integer = int(input())\n",
    "second_float = float(input())\n",
    "second_string = input()\n",
    "# Print the sum of both integer variables on a new line.\n",
    "print(second_integer + i)\n",
    "# Print the sum of the double variables on a new line.\n",
    "print(second_float + d)\n",
    "# Concatenate and print the String variables on a new line\n",
    "# The 's' variable above should be printed first.\n",
    "\n",
    "print(s + second_string)"
   ]
  },
  {
   "cell_type": "code",
   "execution_count": null,
   "metadata": {},
   "outputs": [],
   "source": []
  }
 ],
 "metadata": {
  "kernelspec": {
   "display_name": "Python 3",
   "language": "python",
   "name": "python3"
  },
  "language_info": {
   "codemirror_mode": {
    "name": "ipython",
    "version": 3
   },
   "file_extension": ".py",
   "mimetype": "text/x-python",
   "name": "python",
   "nbconvert_exporter": "python",
   "pygments_lexer": "ipython3",
   "version": "3.7.3"
  }
 },
 "nbformat": 4,
 "nbformat_minor": 2
}
